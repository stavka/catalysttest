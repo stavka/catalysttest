{
 "cells": [
  {
   "cell_type": "code",
   "execution_count": 1,
   "metadata": {},
   "outputs": [],
   "source": [
    "# Register the catalyst magic\n",
    "#%load_ext catalyst\n",
    "\n",
    "# Setup matplotlib to display graphs inline in this Notebook\n",
    "%matplotlib inline\n"
   ]
  },
  {
   "cell_type": "code",
   "execution_count": 3,
   "metadata": {
    "scrolled": true
   },
   "outputs": [
    {
     "name": "stderr",
     "output_type": "stream",
     "text": [
      "[2018-01-04 17:29:41.653081] INFO: run_algo: running algo in backtest mode\n",
      "[2018-01-04 17:29:42.296163] INFO: exchange_algorithm: initialized trading algorithm in backtest mode\n"
     ]
    },
    {
     "name": "stdout",
     "output_type": "stream",
     "text": [
      "bcc_usd Not found\n",
      "bcc_usd Not found\n",
      "bcc_usd Not found\n",
      "bcc_usd Not found\n",
      "bcc_usd Not found\n",
      "bcc_usd Not found\n",
      "bcc_usd Not found\n"
     ]
    },
    {
     "name": "stderr",
     "output_type": "stream",
     "text": [
      "[2018-01-04 17:29:44.433337] INFO: Performance: Simulated 185 trading days out of 185.\n",
      "[2018-01-04 17:29:44.435881] INFO: Performance: first open: 2017-05-30 00:00:00+00:00\n",
      "[2018-01-04 17:29:44.437956] INFO: Performance: last close: 2017-11-30 23:59:00+00:00\n"
     ]
    },
    {
     "data": {
      "image/png": "[encoded data removed]",
      "text/plain": [
       "<matplotlib.figure.Figure at 0x7f8f202b1110>"
      ]
     },
     "metadata": {},
     "output_type": "display_data"
    }
   ],
   "source": [
    "#%%catalyst --start 2017-5-30 --end 2017-11-30 --capital-base 100000 -x bitfinex -c usd\n",
    "\n",
    "from __future__ import division\n",
    "import os\n",
    "import pytz\n",
    "import numpy as np\n",
    "import pandas as pd\n",
    "from scipy.optimize import minimize\n",
    "import matplotlib.pyplot as plt\n",
    "from datetime import datetime, timedelta\n",
    "\n",
    "from catalyst.api import record, symbol, symbols, order_target_percent\n",
    "from catalyst.utils.run_algo import run_algorithm\n",
    "\n",
    "\n",
    "def initialize(context):\n",
    "   context.coins = coins = [ \n",
    "         #'ada',\n",
    "         'bch', 'btg', 'eos',\n",
    "         'eth', 'ltc', 'ppt',\n",
    "         #'xlm',\n",
    "         'xrp', 'bcc', 'btc', 'dsh',\n",
    "         'etc', 'iot', 'neo', \n",
    "         #'xem',\n",
    "         'xmr', 'zec',]\n",
    "   \n",
    "   ### read vol and cap data\n",
    "   \n",
    "   context.volcapdata = pd.DataFrame.from_csv( 'voldata.csv', index_col = 1 )\n",
    "    \n",
    "   context.window = 7\n",
    "   # Set the number of days between each portfolio rebalancing\n",
    "   context.rebalance_period = 7                   \n",
    "   context.i = 0\n",
    "   context.base_currency = 'usd'\n",
    "   context.exchange = context.exchanges.values()[0].name.lower()\n",
    "    \n",
    "def handle_data(context, data):\n",
    "   # Only rebalance at the beggining of the algorithm execution and \n",
    "   # every multiple of the rebalance period\n",
    "   if context.i%context.rebalance_period == 0:\n",
    "       \n",
    "       v = context.volcapdata[context.volcapdata['coin'].isin(context.coins)]\n",
    "       weights = v[ v.index < data.current_dt ].groupby('coin').tail(7).groupby('coin').mean()['volume'].nlargest(10)      \n",
    "       \n",
    "       #weights = volume.mean().nlargest(10) \n",
    "       weights = weights/weights.sum()\n",
    "       \n",
    "              #order optimal weights for each asset\n",
    "       for coin in weights.index:\n",
    "           assetname = coin+ \"_\" + context.base_currency\n",
    "           try:\n",
    "               asset = symbol(assetname)\n",
    "               if data.can_trade(asset):\n",
    "                   order_target_percent(asset, weights[coin])\n",
    "           except:\n",
    "               print (assetname + ' Not found') \n",
    "\n",
    "       record(weights=weights)\n",
    "   context.i += 1\n",
    "   \n",
    "       \n",
    "def analyze(context=None, results=None):\n",
    "   ax1 = plt.subplot(211)\n",
    "   results.portfolio_value.plot(ax=ax1)\n",
    "   ax1.set_ylabel('portfolio value')\n",
    "   ax2 = plt.subplot(212, sharex=ax1)\n",
    "   results.sharpe.plot(ax=ax2)\n",
    "   ax2.set_ylabel('sharpe ratio')\n",
    "   plt.show()    \n",
    "    \n",
    "   # Form DataFrame with selected data\n",
    "   data = results[['weights']]\n",
    "   \n",
    "   # Save results in CSV file\n",
    "   #filename = os.path.splitext(os.path.basename(__file__))[0]\n",
    "   filename = 'vol_weighted_strat_results'\n",
    "   data.to_csv(filename + '.csv')\n",
    "    \n",
    "    \n",
    "start = datetime(2017, 5, 30, 0, 0, 0, 0, pytz.utc)\n",
    "end = datetime(2017, 11, 30, 0, 0, 0, 0, pytz.utc) \n",
    "results = run_algorithm(initialize=initialize,\n",
    "                        handle_data=handle_data,\n",
    "                        analyze=analyze,\n",
    "                        start=start,\n",
    "                        end=end,\n",
    "                        exchange_name='bitfinex',\n",
    "                        capital_base=100000, )"
   ]
  },
  {
   "cell_type": "code",
   "execution_count": null,
   "metadata": {},
   "outputs": [],
   "source": []
  }
 ],
 "metadata": {
  "kernelspec": {
   "display_name": "Python 2",
   "language": "python",
   "name": "python2"
  },
  "language_info": {
   "codemirror_mode": {
    "name": "ipython",
    "version": 2
   },
   "file_extension": ".py",
   "mimetype": "text/x-python",
   "name": "python",
   "nbconvert_exporter": "python",
   "pygments_lexer": "ipython2",
   "version": "2.7.13"
  }
 },
 "nbformat": 4,
 "nbformat_minor": 2
}
